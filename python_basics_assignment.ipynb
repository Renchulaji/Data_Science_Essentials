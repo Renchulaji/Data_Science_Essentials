{
 "cells": [
  {
   "cell_type": "markdown",
   "id": "d2328cad",
   "metadata": {},
   "source": [
    "# Python Basics Assignment\n",
    "\n",
    "This notebook contains 20 basic Python questions.  \n",
    "Each question carries **1 mark**. Write your answer in the cell provided.  \n"
   ]
  },
  {
   "cell_type": "markdown",
   "id": "cb537954",
   "metadata": {},
   "source": [
    "### Question 1\n",
    "Write a function that returns the square of a number."
   ]
  },
  {
   "cell_type": "code",
   "execution_count": 8,
   "id": "cf213ba2",
   "metadata": {},
   "outputs": [
    {
     "name": "stdin",
     "output_type": "stream",
     "text": [
      "Enter a number 2\n"
     ]
    },
    {
     "name": "stdout",
     "output_type": "stream",
     "text": [
      "Squared value:4.0\n"
     ]
    }
   ],
   "source": [
    "def your_function_1():\n",
    "    number = float(input(\"Enter a number\"))\n",
    "    return number ** 2\n",
    "\n",
    "print(\"Squared value:\" +str(your_function_1()))"
   ]
  },
  {
   "cell_type": "markdown",
   "id": "4eaff430",
   "metadata": {},
   "source": [
    "### Question 2\n",
    "Write a function that checks whether a number is even."
   ]
  },
  {
   "cell_type": "code",
   "execution_count": 18,
   "id": "81934cf7",
   "metadata": {},
   "outputs": [
    {
     "name": "stdin",
     "output_type": "stream",
     "text": [
      "Enter a number to check Even or Not 1\n"
     ]
    },
    {
     "name": "stdout",
     "output_type": "stream",
     "text": [
      "The number is not even\n"
     ]
    }
   ],
   "source": [
    "# Your code here\n",
    "def your_function_2():\n",
    "    number = float(input(\"Enter a number to check Even or Not\"))\n",
    "    if number %2 == 0:\n",
    "        print(\"The given number is even\")\n",
    "    else:\n",
    "        print(\"The number is not even\")\n",
    "your_function_2()"
   ]
  },
  {
   "cell_type": "markdown",
   "id": "5f061e50",
   "metadata": {},
   "source": [
    "### Question 3\n",
    "Write a function to return the maximum of two numbers."
   ]
  },
  {
   "cell_type": "code",
   "execution_count": 44,
   "id": "44e2a596",
   "metadata": {},
   "outputs": [
    {
     "name": "stdin",
     "output_type": "stream",
     "text": [
      "Enter a number 1 4\n",
      "Enter a number 2 2\n"
     ]
    },
    {
     "name": "stdout",
     "output_type": "stream",
     "text": [
      "4.0 is greater than 2.0\n"
     ]
    }
   ],
   "source": [
    "# Your code here\n",
    "def your_function_3():\n",
    "    A = float(input(\"Enter a number 1\"))\n",
    "    B = float(input(\"Enter a number 2\"))\n",
    "    if A > B:\n",
    "        print(f'{A} is greater than {B}')\n",
    "    elif A == B:\n",
    "        print(\"Both numbers are equal\")\n",
    "    else:\n",
    "        print(f'Number {B} is greater than {A}')\n",
    "your_function_3()"
   ]
  },
  {
   "cell_type": "markdown",
   "id": "7513ca91",
   "metadata": {},
   "source": [
    "### Question 4\n",
    "Write a function to return the factorial of a number."
   ]
  },
  {
   "cell_type": "code",
   "execution_count": 49,
   "id": "6617842f",
   "metadata": {},
   "outputs": [
    {
     "name": "stdin",
     "output_type": "stream",
     "text": [
      "Enter a number to find factorial 10\n"
     ]
    },
    {
     "name": "stdout",
     "output_type": "stream",
     "text": [
      "factorial of 10 is 3628800\n"
     ]
    }
   ],
   "source": [
    "# Your code here\n",
    "def your_function_4():\n",
    "    number = int(input(\"Enter a number to find factorial\"))\n",
    "    if number < 0:\n",
    "                   print(\"Negative number factorials aren't available\")\n",
    "    result = 1\n",
    "    for i in range(1, number +1):\n",
    "        result *= i\n",
    "    print (f'factorial of {number} is {result}')\n",
    "your_function_4()\n",
    "    "
   ]
  },
  {
   "cell_type": "markdown",
   "id": "9b942098",
   "metadata": {},
   "source": [
    "### Question 5\n",
    "Write a function to reverse a string."
   ]
  },
  {
   "cell_type": "code",
   "execution_count": 53,
   "id": "d606b194",
   "metadata": {},
   "outputs": [
    {
     "name": "stdin",
     "output_type": "stream",
     "text": [
      "Enter a string malayalam\n"
     ]
    },
    {
     "name": "stdout",
     "output_type": "stream",
     "text": [
      "Reverse of malayalam is malayalam\n"
     ]
    }
   ],
   "source": [
    "# Your code here\n",
    "def your_function_5():\n",
    "    Word = str(input(\"Enter a string\"))\n",
    "    Reverse = Word[::-1]\n",
    "    print(f'Reverse of {Word} is {Reverse}')\n",
    "your_function_5()"
   ]
  },
  {
   "cell_type": "markdown",
   "id": "1abd915b",
   "metadata": {},
   "source": [
    "### Question 6\n",
    "Write a function to check if a string is a palindrome."
   ]
  },
  {
   "cell_type": "code",
   "execution_count": 63,
   "id": "2b868fb3",
   "metadata": {},
   "outputs": [
    {
     "name": "stdin",
     "output_type": "stream",
     "text": [
      "Enter a string Renchu\n"
     ]
    },
    {
     "name": "stdout",
     "output_type": "stream",
     "text": [
      "Renchu isnt Pallindrome\n"
     ]
    }
   ],
   "source": [
    "# Your code here\n",
    "def your_function_6():\n",
    "    Word = str(input(\"Enter a string\"))\n",
    "    Reverse = Word[::-1]\n",
    "    if Word.lower() == Reverse.lower():\n",
    "        print(f'{Word} is Pallindrome')\n",
    "    else:\n",
    "        print(f'{Word} isnt Pallindrome')\n",
    "your_function_6()"
   ]
  },
  {
   "cell_type": "markdown",
   "id": "5f2f3791",
   "metadata": {},
   "source": [
    "### Question 7\n",
    "Write a function to count vowels in a string."
   ]
  },
  {
   "cell_type": "code",
   "execution_count": 68,
   "id": "73fefa50",
   "metadata": {},
   "outputs": [
    {
     "name": "stdin",
     "output_type": "stream",
     "text": [
      "Enter a string Renchu\n"
     ]
    },
    {
     "name": "stdout",
     "output_type": "stream",
     "text": [
      "There are 2 vowels in Renchu\n"
     ]
    }
   ],
   "source": [
    "# Your code here\n",
    "def your_function_7():\n",
    "    Word = input(\"Enter a string\")\n",
    "    Vowel='aeiouAEIOU'\n",
    "    Count = 0\n",
    "    for char in Word:\n",
    "        if char in Vowel:\n",
    "            Count += 1\n",
    "    print(f'There are {Count} vowels in {Word}')\n",
    "your_function_7()"
   ]
  },
  {
   "cell_type": "markdown",
   "id": "0d3a9996",
   "metadata": {},
   "source": [
    "### Question 8\n",
    "Write a function that returns the sum of a list."
   ]
  },
  {
   "cell_type": "code",
   "execution_count": 77,
   "id": "ab6afc66",
   "metadata": {},
   "outputs": [
    {
     "name": "stdout",
     "output_type": "stream",
     "text": [
      "The Sum is 55\n"
     ]
    }
   ],
   "source": [
    "Numbers = [1,2,3,4,5,6,7,8,9,10]\n",
    "def your_function_8():\n",
    "    total = 0\n",
    "    for num in Numbers:\n",
    "        total += num\n",
    "    print(f'The Sum is {total}')\n",
    "your_function_8()"
   ]
  },
  {
   "cell_type": "markdown",
   "id": "f6682500",
   "metadata": {},
   "source": [
    "### Question 9\n",
    "Write a function to find the smallest number in a list."
   ]
  },
  {
   "cell_type": "code",
   "execution_count": 88,
   "id": "6798a641",
   "metadata": {},
   "outputs": [
    {
     "name": "stdout",
     "output_type": "stream",
     "text": [
      "The smallest number of the list is 1\n"
     ]
    }
   ],
   "source": [
    "numbers = [1,2,3,4,5,6,7,8,9,10]\n",
    "def your_function_9():\n",
    "    smallest = numbers[0]\n",
    "    for num in numbers:\n",
    "        if num < smallest:\n",
    "            smallest = num\n",
    "    print(f\"The smallest number of the list is {smallest}\")\n",
    "your_function_9()"
   ]
  },
  {
   "cell_type": "markdown",
   "id": "fb11e683",
   "metadata": {},
   "source": [
    "### Question 10\n",
    "Write a function to remove duplicates from a list."
   ]
  },
  {
   "cell_type": "code",
   "execution_count": 91,
   "id": "7c53f88c",
   "metadata": {},
   "outputs": [
    {
     "name": "stdout",
     "output_type": "stream",
     "text": [
      "[1, 2, 3, 4, 5, 6, 7, 8, 9, 10]\n"
     ]
    }
   ],
   "source": [
    "numbers = [1,2,3,4,5,6,7,8,7,9,8,3,10]\n",
    "def your_function_10():\n",
    "    Unique = []\n",
    "    for num in numbers:\n",
    "        if num not in Unique:\n",
    "            Unique.append(num)\n",
    "    print(Unique)\n",
    "your_function_10()"
   ]
  },
  {
   "cell_type": "markdown",
   "id": "9c380a5c",
   "metadata": {},
   "source": [
    "### Question 11\n",
    "Write a function to sort a list in ascending order."
   ]
  },
  {
   "cell_type": "code",
   "execution_count": 105,
   "id": "8e43832f",
   "metadata": {},
   "outputs": [
    {
     "name": "stdout",
     "output_type": "stream",
     "text": [
      "[1, 2, 3, 3, 4, 5, 6, 7, 7, 8, 8, 9, 10]\n"
     ]
    }
   ],
   "source": [
    "Numbers = [2,4,7,5,7,8,9,1,3,10]\n",
    "def your_function_11():\n",
    "    for i in range(len(numbers)):\n",
    "        for j in range(len(numbers) - 1):\n",
    "            if numbers[j] > numbers[j + 1]:\n",
    "                numbers[j], numbers[j + 1] = numbers[j + 1], numbers[j]\n",
    "    print(numbers)\n",
    "your_function_11()\n",
    "\n",
    "\n"
   ]
  },
  {
   "cell_type": "markdown",
   "id": "1270c91c",
   "metadata": {},
   "source": [
    "### Question 12\n",
    "Write a function that returns the length of a string."
   ]
  },
  {
   "cell_type": "code",
   "execution_count": 78,
   "id": "87f35472",
   "metadata": {},
   "outputs": [
    {
     "name": "stdin",
     "output_type": "stream",
     "text": [
      "Please enter a string Hello Renchu\n"
     ]
    },
    {
     "name": "stdout",
     "output_type": "stream",
     "text": [
      "12\n"
     ]
    }
   ],
   "source": [
    "# Your code here\n",
    "def your_function_12():\n",
    "    String = input(\"Please enter a string\")\n",
    "    print(len(String))\n",
    "your_function_12()"
   ]
  },
  {
   "cell_type": "markdown",
   "id": "9a8e3d28",
   "metadata": {},
   "source": [
    "### Question 13\n",
    "Write a function to count words in a sentence."
   ]
  },
  {
   "cell_type": "code",
   "execution_count": 107,
   "id": "e6f996ef",
   "metadata": {},
   "outputs": [
    {
     "name": "stdout",
     "output_type": "stream",
     "text": [
      "The number of words is: 4\n"
     ]
    }
   ],
   "source": [
    "def your_function_13():\n",
    "    text = \"My name is Renchu\"\n",
    "    words = text.split()\n",
    "    word_count = len(words)\n",
    "    print(f\"The number of words is: {word_count}\")\n",
    "\n",
    "your_function_13()"
   ]
  },
  {
   "cell_type": "markdown",
   "id": "430c2e4a",
   "metadata": {},
   "source": [
    "### Question 14\n",
    "Write a function to convert Celsius to Fahrenheit."
   ]
  },
  {
   "cell_type": "code",
   "execution_count": 83,
   "id": "b710b0bd",
   "metadata": {},
   "outputs": [
    {
     "name": "stdin",
     "output_type": "stream",
     "text": [
      "Enter the celcius to be converted 32\n"
     ]
    },
    {
     "name": "stdout",
     "output_type": "stream",
     "text": [
      "The farenheit of 32 is 89.6\n"
     ]
    }
   ],
   "source": [
    "# Your code here\n",
    "def your_function_14():\n",
    "    Celsius = int(input(\"Enter the celcius to be converted\"))\n",
    "    Fahrenheit = ( Celsius * 9/5) + 32\n",
    "    print(f'The farenheit of {Celsius} is {Fahrenheit}')\n",
    "your_function_14()"
   ]
  },
  {
   "cell_type": "markdown",
   "id": "acefe5e3",
   "metadata": {},
   "source": [
    "### Question 15\n",
    "Write a function to check if a number is prime."
   ]
  },
  {
   "cell_type": "code",
   "execution_count": 110,
   "id": "b700abae",
   "metadata": {},
   "outputs": [
    {
     "name": "stdin",
     "output_type": "stream",
     "text": [
      "Enter a number:  1\n"
     ]
    },
    {
     "name": "stdout",
     "output_type": "stream",
     "text": [
      "1 is not a prime number.\n"
     ]
    }
   ],
   "source": [
    "def your_function_15():\n",
    "    num = int(input(\"Enter a number: \"))\n",
    "\n",
    "    if num > 1:\n",
    "        for i in range(2, num):\n",
    "            if num % i == 0:\n",
    "                print(num, \"is not a prime number.\")\n",
    "                break\n",
    "        else:\n",
    "            print(num, \"is a prime number.\")\n",
    "    else:\n",
    "        print(num, \"is not a prime number.\")\n",
    "\n",
    "your_function_15()"
   ]
  },
  {
   "cell_type": "markdown",
   "id": "b63452cb",
   "metadata": {},
   "source": [
    "### Question 16\n",
    "Write a function to return all even numbers in a list."
   ]
  },
  {
   "cell_type": "code",
   "execution_count": 112,
   "id": "9d1fc968",
   "metadata": {},
   "outputs": [
    {
     "name": "stdin",
     "output_type": "stream",
     "text": [
      "Enter numbers separated by spaces:  2 3 5 7 8 4 \n"
     ]
    },
    {
     "name": "stdout",
     "output_type": "stream",
     "text": [
      "Even numbers: [2, 8, 4]\n"
     ]
    }
   ],
   "source": [
    "def your_function_16():\n",
    "    def get_even_numbers():\n",
    "        numbers = input(\"Enter numbers separated by spaces: \")\n",
    "        numbers = numbers.split()\n",
    "        \n",
    "        even_numbers = []\n",
    "        for num in numbers:\n",
    "            if int(num) % 2 == 0:\n",
    "                even_numbers.append(int(num))\n",
    "        \n",
    "        print(\"Even numbers:\", even_numbers)\n",
    "\n",
    "    get_even_numbers()\n",
    "\n",
    "your_function_16()"
   ]
  },
  {
   "cell_type": "markdown",
   "id": "aca524d9",
   "metadata": {},
   "source": [
    "### Question 17\n",
    "Write a function to return the nth Fibonacci number."
   ]
  },
  {
   "cell_type": "code",
   "execution_count": 114,
   "id": "97dc4e87",
   "metadata": {},
   "outputs": [
    {
     "name": "stdin",
     "output_type": "stream",
     "text": [
      "Enter the position (n) to get the nth Fibonacci number:  34\n"
     ]
    },
    {
     "name": "stdout",
     "output_type": "stream",
     "text": [
      "The 34th Fibonacci number is: 3524578\n"
     ]
    }
   ],
   "source": [
    "def your_function_17(n):\n",
    "    if n <= 0:\n",
    "        return \"Please enter a positive integer.\"\n",
    "    elif n == 1:\n",
    "        return 0\n",
    "    elif n == 2:\n",
    "        return 1\n",
    "\n",
    "    a, b = 0, 1\n",
    "    for _ in range(2, n):\n",
    "        a, b = b, a + b\n",
    "    return b\n",
    "\n",
    "n = int(input(\"Enter the position (n) to get the nth Fibonacci number: \"))\n",
    "print(f\"The {n}th Fibonacci number is:\", your_function_17(n))"
   ]
  },
  {
   "cell_type": "markdown",
   "id": "29c847dc",
   "metadata": {},
   "source": [
    "### Question 18\n",
    "Write a function to calculate the average of a list."
   ]
  },
  {
   "cell_type": "code",
   "execution_count": 85,
   "id": "9adc9fd2",
   "metadata": {},
   "outputs": [
    {
     "name": "stdout",
     "output_type": "stream",
     "text": [
      "The average is 5.5\n"
     ]
    }
   ],
   "source": [
    "Numbers = [1,2,3,4,5,6,7,8,9,10]\n",
    "def your_function_18():\n",
    "    total = 0\n",
    "    for num in Numbers:\n",
    "        total += num\n",
    "    average = total/len(Numbers)\n",
    "    print(f'The average is {average}')\n",
    "your_function_18()"
   ]
  },
  {
   "cell_type": "markdown",
   "id": "420240fb",
   "metadata": {},
   "source": [
    "### Question 19\n",
    "Write a function that returns a dictionary of character counts."
   ]
  },
  {
   "cell_type": "code",
   "execution_count": 116,
   "id": "95cafc54",
   "metadata": {},
   "outputs": [
    {
     "name": "stdin",
     "output_type": "stream",
     "text": [
      "Enter a string:  Renchu is a person\n"
     ]
    },
    {
     "name": "stdout",
     "output_type": "stream",
     "text": [
      "Character counts: {'R': 1, 'e': 2, 'n': 2, 'c': 1, 'h': 1, 'u': 1, ' ': 3, 'i': 1, 's': 2, 'a': 1, 'p': 1, 'r': 1, 'o': 1}\n"
     ]
    }
   ],
   "source": [
    "def your_function_19(s):\n",
    "    count_dict = {}\n",
    "    for char in s:\n",
    "        count_dict[char] = count_dict.get(char, 0) + 1\n",
    "    return count_dict\n",
    "\n",
    "input_string = input(\"Enter a string: \")\n",
    "\n",
    "print(\"Character counts:\", your_function_19(input_string))\n",
    "\n"
   ]
  },
  {
   "cell_type": "markdown",
   "id": "17629a07",
   "metadata": {},
   "source": [
    "### Question 20\n",
    "Write a function that returns True if all list elements are unique."
   ]
  },
  {
   "cell_type": "code",
   "execution_count": 120,
   "id": "fe4f8820",
   "metadata": {},
   "outputs": [
    {
     "name": "stdout",
     "output_type": "stream",
     "text": [
      "True\n",
      "False\n"
     ]
    }
   ],
   "source": [
    "def your_function_20(lst):\n",
    "    return len(lst) == len(set(lst))\n",
    "\n",
    "my_list = [1, 2, 3, 4, 5]\n",
    "print(your_function_20(my_list))  \n",
    "\n",
    "my_list2 = [1, 2, 2, 3, 4]\n",
    "print(your_function_20(my_list2))\n"
   ]
  }
 ],
 "metadata": {
  "kernelspec": {
   "display_name": "Python 3 (ipykernel)",
   "language": "python",
   "name": "python3"
  },
  "language_info": {
   "codemirror_mode": {
    "name": "ipython",
    "version": 3
   },
   "file_extension": ".py",
   "mimetype": "text/x-python",
   "name": "python",
   "nbconvert_exporter": "python",
   "pygments_lexer": "ipython3",
   "version": "3.9.6"
  }
 },
 "nbformat": 4,
 "nbformat_minor": 5
}
